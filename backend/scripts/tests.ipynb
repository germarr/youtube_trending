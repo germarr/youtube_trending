{
 "metadata": {
  "language_info": {
   "codemirror_mode": {
    "name": "ipython",
    "version": 3
   },
   "file_extension": ".py",
   "mimetype": "text/x-python",
   "name": "python",
   "nbconvert_exporter": "python",
   "pygments_lexer": "ipython3",
   "version": "3.8.5"
  },
  "orig_nbformat": 2,
  "kernelspec": {
   "name": "python385jvsc74a57bd0c9927c45b28d52e671522029fde0c5527b060e138908e682a36fef2057dc6418",
   "display_name": "Python 3.8.5 64-bit ('base': conda)"
  }
 },
 "nbformat": 4,
 "nbformat_minor": 2,
 "cells": [
  {
   "cell_type": "code",
   "execution_count": 173,
   "metadata": {},
   "outputs": [],
   "source": [
    "import pandas as pd\n",
    "import numpy as np"
   ]
  },
  {
   "cell_type": "code",
   "execution_count": 174,
   "metadata": {},
   "outputs": [],
   "source": [
    "df = pd.read_csv(\"../data/test_df.csv\", index_col=0).fillna(0)"
   ]
  },
  {
   "cell_type": "code",
   "execution_count": 180,
   "metadata": {},
   "outputs": [],
   "source": [
    "c = \"MX\"\n",
    "c_1 = df.loc[df[f\"{c}\"] == 1].head(4).transpose().to_dict()"
   ]
  },
  {
   "cell_type": "code",
   "execution_count": 73,
   "metadata": {},
   "outputs": [
    {
     "output_type": "execute_result",
     "data": {
      "text/plain": [
       "Index(['AR', 'AU', 'BO', 'BR', 'CA', 'CL', 'CO', 'CR', 'DE', 'EC', 'ES', 'FR',\n",
       "       'GB', 'IN', 'IT', 'JP', 'KR', 'MX', 'PE', 'PT', 'US', 'UY'],\n",
       "      dtype='object', name='index')"
      ]
     },
     "metadata": {},
     "execution_count": 73
    }
   ],
   "source": [
    "df.sort_values(by=\"sum_of_countries\", ascending=False).iloc[0:1,24:-1].reset_index().iloc[:,1:].transpose().reset_index().rename(columns={0:\"counts\"}).query('counts >0').set_index(\"index\").transpose().columns"
   ]
  },
  {
   "cell_type": "code",
   "execution_count": 192,
   "metadata": {},
   "outputs": [],
   "source": [
    "empty_countries = []\n",
    "countries_f = df.country.drop_duplicates()\n",
    "\n",
    "for i in range(len(countries_f)):\n",
    "    empty_countries.append(countries_f[i])"
   ]
  },
  {
   "cell_type": "code",
   "execution_count": 206,
   "metadata": {},
   "outputs": [
    {
     "output_type": "execute_result",
     "data": {
      "text/plain": [
       "['AR',\n",
       " 'AU',\n",
       " 'BO',\n",
       " 'BR',\n",
       " 'CA',\n",
       " 'CL',\n",
       " 'CO',\n",
       " 'CR',\n",
       " 'DE',\n",
       " 'EC',\n",
       " 'ES',\n",
       " 'FR',\n",
       " 'GB',\n",
       " 'IN',\n",
       " 'IT',\n",
       " 'JP',\n",
       " 'KR',\n",
       " 'MX',\n",
       " 'PE',\n",
       " 'PT',\n",
       " 'US',\n",
       " 'UY']"
      ]
     },
     "metadata": {},
     "execution_count": 206
    }
   ],
   "source": [
    "df.country.drop_duplicates().reset_index()[\"country\"].to_list()"
   ]
  },
  {
   "cell_type": "code",
   "execution_count": 172,
   "metadata": {},
   "outputs": [],
   "source": [
    "def get_flags(videos = 5):\n",
    "    flag_list = []\n",
    "\n",
    "    for i in range(videos):\n",
    "        valueOne = i\n",
    "        valueTwo = i+1\n",
    "        flags = df.sort_values(by=\"sum_of_countries\", ascending=False).iloc[valueOne:valueTwo,24:-1].reset_index().iloc[:,1:].transpose().reset_index().rename(columns={0:\"counts\"}).query('counts >0').set_index(\"index\").transpose().columns\n",
    "        flag_list.append([])\n",
    "        \n",
    "        for si in range(len(flags)):\n",
    "            flag_list[i].append(flags[si])\n",
    "    \n",
    "    return flag_list\n",
    "\n",
    "fl = get_flags(videos = 5)\n",
    "\n",
    "data = fl[0]"
   ]
  },
  {
   "cell_type": "code",
   "execution_count": 154,
   "metadata": {},
   "outputs": [
    {
     "output_type": "execute_result",
     "data": {
      "text/plain": [
       "   index                channel_id     video_id           publishedAt  \\\n",
       "0    147  UCdq61m8s_48EhJ5OM_MCeGw  hAxqygRdM4g  2021-04-21T11:00:14Z   \n",
       "1    199  UCE_M8A5yxnLfW0KghEeajjw  JdBYVNuky1M  2021-04-20T18:05:50Z   \n",
       "2    140  UCF_fDSgPpBQuh1MsUTgIARQ  LIIDh-qI9oI  2021-04-23T04:00:06Z   \n",
       "3    144  UCPz7kwpT81YteDXSzSKpDLw  GUfRAu_pEY0  2021-04-23T04:00:14Z   \n",
       "4    127  UCtTfSyci2urfwXXu_eRpNRA  YspVHSxhncI  2021-04-23T14:00:16Z   \n",
       "\n",
       "                                               title   viewCount  likeCount  \\\n",
       "0                              Earth Day 2021 Doodle         0.0        0.0   \n",
       "1                             Apple Event — April 20   9199836.0   332011.0   \n",
       "2  The Weeknd & Ariana Grande - Save Your Tears (...  19725750.0  1391422.0   \n",
       "3  LILHUDDY - America's Sweetheart (Official Musi...   5338000.0   478201.0   \n",
       "4  Lil Nas X - MONTERO (Call Me By Your Name) (Bu...   5567468.0   689422.0   \n",
       "\n",
       "   dislikeCount  commentCount  duration  ...   IN   IT   JP   KR   MX   PE  \\\n",
       "0           0.0           0.0     PT40S  ...  1.0  1.0  1.0  1.0  1.0  1.0   \n",
       "1        9288.0           0.0  PT1H1M3S  ...  0.0  1.0  1.0  1.0  1.0  1.0   \n",
       "2       18043.0       67694.0   PT3M26S  ...  1.0  1.0  0.0  0.0  1.0  1.0   \n",
       "3       22814.0       39055.0   PT3M30S  ...  0.0  1.0  0.0  0.0  1.0  1.0   \n",
       "4       12213.0       32904.0   PT2M19S  ...  0.0  1.0  0.0  0.0  1.0  1.0   \n",
       "\n",
       "    PT   US   UY sum_of_countries  \n",
       "0  1.0  1.0  1.0             22.0  \n",
       "1  1.0  1.0  1.0             19.0  \n",
       "2  1.0  1.0  1.0             19.0  \n",
       "3  1.0  1.0  1.0             19.0  \n",
       "4  1.0  1.0  1.0             19.0  \n",
       "\n",
       "[5 rows x 48 columns]"
      ],
      "text/html": "<div>\n<style scoped>\n    .dataframe tbody tr th:only-of-type {\n        vertical-align: middle;\n    }\n\n    .dataframe tbody tr th {\n        vertical-align: top;\n    }\n\n    .dataframe thead th {\n        text-align: right;\n    }\n</style>\n<table border=\"1\" class=\"dataframe\">\n  <thead>\n    <tr style=\"text-align: right;\">\n      <th></th>\n      <th>index</th>\n      <th>channel_id</th>\n      <th>video_id</th>\n      <th>publishedAt</th>\n      <th>title</th>\n      <th>viewCount</th>\n      <th>likeCount</th>\n      <th>dislikeCount</th>\n      <th>commentCount</th>\n      <th>duration</th>\n      <th>...</th>\n      <th>IN</th>\n      <th>IT</th>\n      <th>JP</th>\n      <th>KR</th>\n      <th>MX</th>\n      <th>PE</th>\n      <th>PT</th>\n      <th>US</th>\n      <th>UY</th>\n      <th>sum_of_countries</th>\n    </tr>\n  </thead>\n  <tbody>\n    <tr>\n      <th>0</th>\n      <td>147</td>\n      <td>UCdq61m8s_48EhJ5OM_MCeGw</td>\n      <td>hAxqygRdM4g</td>\n      <td>2021-04-21T11:00:14Z</td>\n      <td>Earth Day 2021 Doodle</td>\n      <td>0.0</td>\n      <td>0.0</td>\n      <td>0.0</td>\n      <td>0.0</td>\n      <td>PT40S</td>\n      <td>...</td>\n      <td>1.0</td>\n      <td>1.0</td>\n      <td>1.0</td>\n      <td>1.0</td>\n      <td>1.0</td>\n      <td>1.0</td>\n      <td>1.0</td>\n      <td>1.0</td>\n      <td>1.0</td>\n      <td>22.0</td>\n    </tr>\n    <tr>\n      <th>1</th>\n      <td>199</td>\n      <td>UCE_M8A5yxnLfW0KghEeajjw</td>\n      <td>JdBYVNuky1M</td>\n      <td>2021-04-20T18:05:50Z</td>\n      <td>Apple Event — April 20</td>\n      <td>9199836.0</td>\n      <td>332011.0</td>\n      <td>9288.0</td>\n      <td>0.0</td>\n      <td>PT1H1M3S</td>\n      <td>...</td>\n      <td>0.0</td>\n      <td>1.0</td>\n      <td>1.0</td>\n      <td>1.0</td>\n      <td>1.0</td>\n      <td>1.0</td>\n      <td>1.0</td>\n      <td>1.0</td>\n      <td>1.0</td>\n      <td>19.0</td>\n    </tr>\n    <tr>\n      <th>2</th>\n      <td>140</td>\n      <td>UCF_fDSgPpBQuh1MsUTgIARQ</td>\n      <td>LIIDh-qI9oI</td>\n      <td>2021-04-23T04:00:06Z</td>\n      <td>The Weeknd &amp; Ariana Grande - Save Your Tears (...</td>\n      <td>19725750.0</td>\n      <td>1391422.0</td>\n      <td>18043.0</td>\n      <td>67694.0</td>\n      <td>PT3M26S</td>\n      <td>...</td>\n      <td>1.0</td>\n      <td>1.0</td>\n      <td>0.0</td>\n      <td>0.0</td>\n      <td>1.0</td>\n      <td>1.0</td>\n      <td>1.0</td>\n      <td>1.0</td>\n      <td>1.0</td>\n      <td>19.0</td>\n    </tr>\n    <tr>\n      <th>3</th>\n      <td>144</td>\n      <td>UCPz7kwpT81YteDXSzSKpDLw</td>\n      <td>GUfRAu_pEY0</td>\n      <td>2021-04-23T04:00:14Z</td>\n      <td>LILHUDDY - America's Sweetheart (Official Musi...</td>\n      <td>5338000.0</td>\n      <td>478201.0</td>\n      <td>22814.0</td>\n      <td>39055.0</td>\n      <td>PT3M30S</td>\n      <td>...</td>\n      <td>0.0</td>\n      <td>1.0</td>\n      <td>0.0</td>\n      <td>0.0</td>\n      <td>1.0</td>\n      <td>1.0</td>\n      <td>1.0</td>\n      <td>1.0</td>\n      <td>1.0</td>\n      <td>19.0</td>\n    </tr>\n    <tr>\n      <th>4</th>\n      <td>127</td>\n      <td>UCtTfSyci2urfwXXu_eRpNRA</td>\n      <td>YspVHSxhncI</td>\n      <td>2021-04-23T14:00:16Z</td>\n      <td>Lil Nas X - MONTERO (Call Me By Your Name) (Bu...</td>\n      <td>5567468.0</td>\n      <td>689422.0</td>\n      <td>12213.0</td>\n      <td>32904.0</td>\n      <td>PT2M19S</td>\n      <td>...</td>\n      <td>0.0</td>\n      <td>1.0</td>\n      <td>0.0</td>\n      <td>0.0</td>\n      <td>1.0</td>\n      <td>1.0</td>\n      <td>1.0</td>\n      <td>1.0</td>\n      <td>1.0</td>\n      <td>19.0</td>\n    </tr>\n  </tbody>\n</table>\n<p>5 rows × 48 columns</p>\n</div>"
     },
     "metadata": {},
     "execution_count": 154
    }
   ],
   "source": [
    "trending = df.sort_values(by=\"sum_of_countries\", ascending=False).iloc[0:5,:].reset_index()\n",
    "trending"
   ]
  },
  {
   "cell_type": "code",
   "execution_count": 12,
   "metadata": {},
   "outputs": [
    {
     "output_type": "execute_result",
     "data": {
      "text/plain": [
       "{'index': 147,\n",
       " 'channel_id': 'UCdq61m8s_48EhJ5OM_MCeGw',\n",
       " 'video_id': 'hAxqygRdM4g',\n",
       " 'publishedAt': '2021-04-21T11:00:14Z',\n",
       " 'title': 'Earth Day 2021 Doodle',\n",
       " 'viewCount': 0.0,\n",
       " 'likeCount': 0.0,\n",
       " 'dislikeCount': 0.0,\n",
       " 'commentCount': 0.0,\n",
       " 'duration': 'PT40S',\n",
       " 'thumbnail': 'https://i.ytimg.com/vi/hAxqygRdM4g/mqdefault.jpg',\n",
       " 'link': 'https://youtu.be/hAxqygRdM4g',\n",
       " 'video_lang': 'en',\n",
       " 'categoryId': 1,\n",
       " 'description': 'This year’s annual Earth Day Doodle highlights how everyone can plant the seed to a brighter future—one sapling at a time.\\nHappy Earth Day 2021!\\n\\nLearn more: http://www.google.com/doodles/earth-day-2021\\n\\n-------\\n\\nTo follow Google Doodles on YouTube, subscribe to:  @GoogleDoodles \\nFollow Google Doodles on Twitter at: https://twitter.com/GoogleDoodles',\n",
       " 'channel_title': 'GoogleDoodles',\n",
       " 'number_of_views': 410651891,\n",
       " 'published_videos': 80,\n",
       " 'channel_subs': 1910000.0,\n",
       " 'birth_of_channel': '2011-08-18T18:16:08Z',\n",
       " 'country_of_the_channel': 0,\n",
       " 'channel_thumbnail': 'https://yt3.ggpht.com/ytc/AAUvwniGo6-1ov3MW_MXvaos0b9MI2E3ALJG5DPEsnh5_g=s240-c-k-c0x00ffffff-no-rj',\n",
       " 'upload_playlist': 'UUdq61m8s_48EhJ5OM_MCeGw',\n",
       " 'category_title': 'Film & Animation',\n",
       " 'country': 'AR',\n",
       " 'AR': 1.0,\n",
       " 'AU': 1.0,\n",
       " 'BO': 1.0,\n",
       " 'BR': 1.0,\n",
       " 'CA': 1.0,\n",
       " 'CL': 1.0,\n",
       " 'CO': 1.0,\n",
       " 'CR': 1.0,\n",
       " 'DE': 1.0,\n",
       " 'EC': 1.0,\n",
       " 'ES': 1.0,\n",
       " 'FR': 1.0,\n",
       " 'GB': 1.0,\n",
       " 'IN': 1.0,\n",
       " 'IT': 1.0,\n",
       " 'JP': 1.0,\n",
       " 'KR': 1.0,\n",
       " 'MX': 1.0,\n",
       " 'PE': 1.0,\n",
       " 'PT': 1.0,\n",
       " 'US': 1.0,\n",
       " 'UY': 1.0,\n",
       " 'sum_of_countries': 22.0}"
      ]
     },
     "metadata": {},
     "execution_count": 12
    }
   ],
   "source": [
    "empty_list= []\n",
    "for i in range(len(trending)):\n",
    "    empty_list.append(trending[i])\n",
    "\n",
    "empty_list[0]"
   ]
  },
  {
   "cell_type": "code",
   "execution_count": null,
   "metadata": {},
   "outputs": [],
   "source": []
  }
 ]
}