{
 "metadata": {
  "language_info": {
   "codemirror_mode": {
    "name": "ipython",
    "version": 3
   },
   "file_extension": ".py",
   "mimetype": "text/x-python",
   "name": "python",
   "nbconvert_exporter": "python",
   "pygments_lexer": "ipython3",
   "version": "3.8.5"
  },
  "orig_nbformat": 2,
  "kernelspec": {
   "name": "python385jvsc74a57bd0c9927c45b28d52e671522029fde0c5527b060e138908e682a36fef2057dc6418",
   "display_name": "Python 3.8.5 64-bit ('base': conda)"
  }
 },
 "nbformat": 4,
 "nbformat_minor": 2,
 "cells": [
  {
   "cell_type": "code",
   "execution_count": 1,
   "metadata": {},
   "outputs": [],
   "source": [
    "from helper import build_df\n",
    "import pandas as pd"
   ]
  },
  {
   "cell_type": "code",
   "execution_count": 87,
   "metadata": {},
   "outputs": [
    {
     "output_type": "stream",
     "name": "stdout",
     "text": [
      "Dataframe Created!\n",
      "Dataframe Created!\n"
     ]
    }
   ],
   "source": [
    "def create_df():\n",
    "    countries = ['ES', 'FR']\n",
    "\n",
    "    empty_list = []\n",
    "\n",
    "    for i in range(len(countries)):\n",
    "        empty_list.append(build_df(listOfCountries = [countries[i]]))\n",
    "    \n",
    "    all_frames = pd.concat(empty_list)\n",
    "    all_framesV2 = all_frames.copy().drop_duplicates(subset=['video_id'])\n",
    "    all_frames[\"count\"] = 1\n",
    "\n",
    "    countries_df= all_frames[[\"video_id\",\"country\",\"count\"]]\n",
    "    countries_pivot = countries_df.pivot(index=\"video_id\", columns=\"country\", values=\"count\").reset_index()\n",
    "\n",
    "    f_df = all_framesV2.merge(countries_pivot, on=\"video_id\", how=\"inner\")\n",
    "\n",
    "    return  all_frames, f_df\n",
    "\n",
    "all_frames, f_df  = create_df()"
   ]
  },
  {
   "cell_type": "code",
   "execution_count": 90,
   "metadata": {},
   "outputs": [
    {
     "output_type": "execute_result",
     "data": {
      "text/plain": [
       "                  channel_id     video_id           publishedAt  \\\n",
       "28  UCbcxFkd6B9xUU54InHv4Tig  HOjjZBUlnHo  2021-04-25T20:02:18Z   \n",
       "\n",
       "                                                title viewCount likeCount  \\\n",
       "28  Rafael Nadal vs Stefanos Tsitsipas | Barcelona...    664093     12254   \n",
       "\n",
       "   dislikeCount commentCount duration  \\\n",
       "28          198         1802  PT8M19S   \n",
       "\n",
       "                                           thumbnail  ... channel_subs  \\\n",
       "28  https://i.ytimg.com/vi/HOjjZBUlnHo/mqdefault.jpg  ...       623000   \n",
       "\n",
       "        birth_of_channel country_of_the_channel  \\\n",
       "28  2006-01-12T01:36:35Z                     GB   \n",
       "\n",
       "                                    channel_thumbnail  \\\n",
       "28  https://yt3.ggpht.com/ytc/AAUvwnh9wYy4YTDdNn9R...   \n",
       "\n",
       "             upload_playlist category_title country count   ES   FR  \n",
       "28  UUbcxFkd6B9xUU54InHv4Tig         Sports      ES     1  1.0  1.0  \n",
       "\n",
       "[1 rows x 27 columns]"
      ],
      "text/html": "<div>\n<style scoped>\n    .dataframe tbody tr th:only-of-type {\n        vertical-align: middle;\n    }\n\n    .dataframe tbody tr th {\n        vertical-align: top;\n    }\n\n    .dataframe thead th {\n        text-align: right;\n    }\n</style>\n<table border=\"1\" class=\"dataframe\">\n  <thead>\n    <tr style=\"text-align: right;\">\n      <th></th>\n      <th>channel_id</th>\n      <th>video_id</th>\n      <th>publishedAt</th>\n      <th>title</th>\n      <th>viewCount</th>\n      <th>likeCount</th>\n      <th>dislikeCount</th>\n      <th>commentCount</th>\n      <th>duration</th>\n      <th>thumbnail</th>\n      <th>...</th>\n      <th>channel_subs</th>\n      <th>birth_of_channel</th>\n      <th>country_of_the_channel</th>\n      <th>channel_thumbnail</th>\n      <th>upload_playlist</th>\n      <th>category_title</th>\n      <th>country</th>\n      <th>count</th>\n      <th>ES</th>\n      <th>FR</th>\n    </tr>\n  </thead>\n  <tbody>\n    <tr>\n      <th>28</th>\n      <td>UCbcxFkd6B9xUU54InHv4Tig</td>\n      <td>HOjjZBUlnHo</td>\n      <td>2021-04-25T20:02:18Z</td>\n      <td>Rafael Nadal vs Stefanos Tsitsipas | Barcelona...</td>\n      <td>664093</td>\n      <td>12254</td>\n      <td>198</td>\n      <td>1802</td>\n      <td>PT8M19S</td>\n      <td>https://i.ytimg.com/vi/HOjjZBUlnHo/mqdefault.jpg</td>\n      <td>...</td>\n      <td>623000</td>\n      <td>2006-01-12T01:36:35Z</td>\n      <td>GB</td>\n      <td>https://yt3.ggpht.com/ytc/AAUvwnh9wYy4YTDdNn9R...</td>\n      <td>UUbcxFkd6B9xUU54InHv4Tig</td>\n      <td>Sports</td>\n      <td>ES</td>\n      <td>1</td>\n      <td>1.0</td>\n      <td>1.0</td>\n    </tr>\n  </tbody>\n</table>\n<p>1 rows × 27 columns</p>\n</div>"
     },
     "metadata": {},
     "execution_count": 90
    }
   ],
   "source": [
    "f_df.loc[f_df[\"video_id\"] == \"HOjjZBUlnHo\"]"
   ]
  }
 ]
}