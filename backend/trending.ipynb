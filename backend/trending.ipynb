{
 "metadata": {
  "language_info": {
   "codemirror_mode": {
    "name": "ipython",
    "version": 3
   },
   "file_extension": ".py",
   "mimetype": "text/x-python",
   "name": "python",
   "nbconvert_exporter": "python",
   "pygments_lexer": "ipython3",
   "version": "3.8.5"
  },
  "orig_nbformat": 2,
  "kernelspec": {
   "name": "python385jvsc74a57bd0c9927c45b28d52e671522029fde0c5527b060e138908e682a36fef2057dc6418",
   "display_name": "Python 3.8.5 64-bit ('base': conda)"
  }
 },
 "nbformat": 4,
 "nbformat_minor": 2,
 "cells": [
  {
   "cell_type": "code",
   "execution_count": 1,
   "metadata": {},
   "outputs": [],
   "source": [
    "from trending import trending_now"
   ]
  },
  {
   "cell_type": "code",
   "execution_count": 2,
   "metadata": {},
   "outputs": [
    {
     "output_type": "stream",
     "name": "stdout",
     "text": [
      "Dataframe Created!\n"
     ]
    },
    {
     "output_type": "execute_result",
     "data": {
      "text/plain": [
       "        video_id country_trending day_trending\n",
       "0    XegHMc35Bo8               MX   2021-04-25\n",
       "1    xjqYxlHTQW8               MX   2021-04-25\n",
       "2    CHUS7sqA2Mo               MX   2021-04-25\n",
       "3    3-BRfzrUk1E               MX   2021-04-25\n",
       "4    5abzFrbsC8w               MX   2021-04-25\n",
       "..           ...              ...          ...\n",
       "195  IfCyNYWigTY               MX   2021-04-25\n",
       "196  GDT3oMFpF2A               MX   2021-04-25\n",
       "197  7Sow_5H_sXw               MX   2021-04-25\n",
       "198  sG3iYzczXd0               MX   2021-04-25\n",
       "199  riXMnwRdvTE               MX   2021-04-25\n",
       "\n",
       "[200 rows x 3 columns]"
      ],
      "text/html": "<div>\n<style scoped>\n    .dataframe tbody tr th:only-of-type {\n        vertical-align: middle;\n    }\n\n    .dataframe tbody tr th {\n        vertical-align: top;\n    }\n\n    .dataframe thead th {\n        text-align: right;\n    }\n</style>\n<table border=\"1\" class=\"dataframe\">\n  <thead>\n    <tr style=\"text-align: right;\">\n      <th></th>\n      <th>video_id</th>\n      <th>country_trending</th>\n      <th>day_trending</th>\n    </tr>\n  </thead>\n  <tbody>\n    <tr>\n      <th>0</th>\n      <td>XegHMc35Bo8</td>\n      <td>MX</td>\n      <td>2021-04-25</td>\n    </tr>\n    <tr>\n      <th>1</th>\n      <td>xjqYxlHTQW8</td>\n      <td>MX</td>\n      <td>2021-04-25</td>\n    </tr>\n    <tr>\n      <th>2</th>\n      <td>CHUS7sqA2Mo</td>\n      <td>MX</td>\n      <td>2021-04-25</td>\n    </tr>\n    <tr>\n      <th>3</th>\n      <td>3-BRfzrUk1E</td>\n      <td>MX</td>\n      <td>2021-04-25</td>\n    </tr>\n    <tr>\n      <th>4</th>\n      <td>5abzFrbsC8w</td>\n      <td>MX</td>\n      <td>2021-04-25</td>\n    </tr>\n    <tr>\n      <th>...</th>\n      <td>...</td>\n      <td>...</td>\n      <td>...</td>\n    </tr>\n    <tr>\n      <th>195</th>\n      <td>IfCyNYWigTY</td>\n      <td>MX</td>\n      <td>2021-04-25</td>\n    </tr>\n    <tr>\n      <th>196</th>\n      <td>GDT3oMFpF2A</td>\n      <td>MX</td>\n      <td>2021-04-25</td>\n    </tr>\n    <tr>\n      <th>197</th>\n      <td>7Sow_5H_sXw</td>\n      <td>MX</td>\n      <td>2021-04-25</td>\n    </tr>\n    <tr>\n      <th>198</th>\n      <td>sG3iYzczXd0</td>\n      <td>MX</td>\n      <td>2021-04-25</td>\n    </tr>\n    <tr>\n      <th>199</th>\n      <td>riXMnwRdvTE</td>\n      <td>MX</td>\n      <td>2021-04-25</td>\n    </tr>\n  </tbody>\n</table>\n<p>200 rows × 3 columns</p>\n</div>"
     },
     "metadata": {},
     "execution_count": 2
    }
   ],
   "source": [
    "# Avialable Countries [\"AR\",\"BR\",\"CA\",\"CL\",\"CO\",\"ES\",\"MX\",\"US\",\"GB\",\"AU\",\"BO\",\"CR\",\"EC\",\"FR\",\"DE\",\"IN\",\"IT\",\"JP\",\"KR\",\"PE\",\"PT\", \"UY\"]\n",
    "# Default trending_now([\"MX\"])\n",
    "trending_now()"
   ]
  },
  {
   "cell_type": "code",
   "execution_count": null,
   "metadata": {},
   "outputs": [],
   "source": []
  }
 ]
}